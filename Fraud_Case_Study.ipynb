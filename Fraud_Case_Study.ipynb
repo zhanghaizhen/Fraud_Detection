{
 "cells": [
  {
   "cell_type": "markdown",
   "metadata": {},
   "source": [
    "## Data Understanding"
   ]
  },
  {
   "cell_type": "code",
   "execution_count": 3,
   "metadata": {
    "collapsed": false
   },
   "outputs": [],
   "source": [
    "import pandas as pd\n",
    "import numpy as np\n",
    "import matplotlib.pyplot as plt\n",
    "import datetime\n",
    "\n",
    "\n",
    "%matplotlib inline"
   ]
  },
  {
   "cell_type": "code",
   "execution_count": 4,
   "metadata": {
    "collapsed": true
   },
   "outputs": [],
   "source": [
    " df = pd.read_json('data/train_new.json')"
   ]
  },
  {
   "cell_type": "code",
   "execution_count": 5,
   "metadata": {
    "collapsed": false
   },
   "outputs": [
    {
     "data": {
      "text/plain": [
       "(14337, 44)"
      ]
     },
     "execution_count": 5,
     "metadata": {},
     "output_type": "execute_result"
    }
   ],
   "source": [
    "df.shape"
   ]
  },
  {
   "cell_type": "code",
   "execution_count": 6,
   "metadata": {
    "collapsed": false
   },
   "outputs": [
    {
     "name": "stdout",
     "output_type": "stream",
     "text": [
      "<class 'pandas.core.frame.DataFrame'>\n",
      "Int64Index: 14337 entries, 0 to 14336\n",
      "Data columns (total 44 columns):\n",
      "acct_type             14337 non-null object\n",
      "approx_payout_date    14337 non-null int64\n",
      "body_length           14337 non-null int64\n",
      "channels              14337 non-null int64\n",
      "country               14256 non-null object\n",
      "currency              14337 non-null object\n",
      "delivery_method       14321 non-null float64\n",
      "description           14337 non-null object\n",
      "email_domain          14337 non-null object\n",
      "event_created         14337 non-null int64\n",
      "event_end             14337 non-null int64\n",
      "event_published       14238 non-null float64\n",
      "event_start           14337 non-null int64\n",
      "fb_published          14337 non-null int64\n",
      "gts                   14337 non-null float64\n",
      "has_analytics         14337 non-null int64\n",
      "has_header            8928 non-null float64\n",
      "has_logo              14337 non-null int64\n",
      "listed                14337 non-null object\n",
      "name                  14337 non-null object\n",
      "name_length           14337 non-null int64\n",
      "num_order             14337 non-null int64\n",
      "num_payouts           14337 non-null int64\n",
      "object_id             14337 non-null int64\n",
      "org_desc              14337 non-null object\n",
      "org_facebook          14278 non-null float64\n",
      "org_name              14337 non-null object\n",
      "org_twitter           14278 non-null float64\n",
      "payee_name            14337 non-null object\n",
      "payout_type           14337 non-null object\n",
      "previous_payouts      14337 non-null object\n",
      "sale_duration         14182 non-null float64\n",
      "sale_duration2        14337 non-null int64\n",
      "show_map              14337 non-null int64\n",
      "ticket_types          14337 non-null object\n",
      "user_age              14337 non-null int64\n",
      "user_created          14337 non-null int64\n",
      "user_type             14337 non-null int64\n",
      "venue_address         14337 non-null object\n",
      "venue_country         13261 non-null object\n",
      "venue_latitude        13261 non-null float64\n",
      "venue_longitude       13261 non-null float64\n",
      "venue_name            13261 non-null object\n",
      "venue_state           13261 non-null object\n",
      "dtypes: float64(9), int64(18), object(17)\n",
      "memory usage: 4.9+ MB\n"
     ]
    }
   ],
   "source": [
    "df.info()"
   ]
  },
  {
   "cell_type": "code",
   "execution_count": 7,
   "metadata": {
    "collapsed": false
   },
   "outputs": [
    {
     "data": {
      "text/plain": [
       "premium             12373\n",
       "fraudster_event       851\n",
       "fraudster             437\n",
       "spammer_limited       218\n",
       "spammer_warn          144\n",
       "tos_warn               91\n",
       "spammer_noinvite       84\n",
       "tos_lock               77\n",
       "locked                 54\n",
       "fraudster_att           5\n",
       "spammer_web             2\n",
       "spammer                 1\n",
       "Name: acct_type, dtype: int64"
      ]
     },
     "execution_count": 7,
     "metadata": {},
     "output_type": "execute_result"
    }
   ],
   "source": [
    "df.acct_type.value_counts(dropna=False)"
   ]
  },
  {
   "cell_type": "markdown",
   "metadata": {},
   "source": [
    "## Data Prep"
   ]
  },
  {
   "cell_type": "code",
   "execution_count": 8,
   "metadata": {
    "collapsed": false
   },
   "outputs": [
    {
     "name": "stdout",
     "output_type": "stream",
     "text": [
      "0     True\n",
      "1    False\n",
      "2    False\n",
      "3    False\n",
      "4    False\n",
      "Name: acct_type, dtype: bool\n"
     ]
    }
   ],
   "source": [
    "y = df['acct_type']!='premium'\n",
    "print y[0:5]"
   ]
  },
  {
   "cell_type": "code",
   "execution_count": 9,
   "metadata": {
    "collapsed": true
   },
   "outputs": [],
   "source": [
    "clean_df=pd.DataFrame()"
   ]
  },
  {
   "cell_type": "code",
   "execution_count": 10,
   "metadata": {
    "collapsed": false
   },
   "outputs": [],
   "source": [
    "clean_df['log_desc_length'] = np.log(df['body_length']+1)\n",
    "clean_df['bin_desc_length'] = [0 if i == 0 else 1 for i in df['body_length']]\n",
    "clean_df['bin_desc_length'] = clean_df['bin_desc_length'].astype('category')"
   ]
  },
  {
   "cell_type": "code",
   "execution_count": 11,
   "metadata": {
    "collapsed": true
   },
   "outputs": [],
   "source": [
    "clean_df['channels'] = df['channels'].astype('category')\n",
    "clean_df['bin_channels'] = [0 if i ==0 else 1 for i in df['channels']]\n",
    "clean_df['bin_channels'] = clean_df['bin_channels'].astype('category')\n",
    "clean_df['bin_country'] = [1 if i=='US' else 0 for i in df['country']]\n",
    "clean_df['bin_country'] = clean_df['bin_country'].astype('category')"
   ]
  },
  {
   "cell_type": "code",
   "execution_count": 12,
   "metadata": {
    "collapsed": true
   },
   "outputs": [],
   "source": [
    "clean_df['delivery_method'] = df['delivery_method'].fillna(-1)\n",
    "clean_df['delivery_method'] = [int(i) for i in clean_df['delivery_method']]\n",
    "clean_df['delivery_method'] = clean_df['delivery_method'].astype('category')"
   ]
  },
  {
   "cell_type": "code",
   "execution_count": 13,
   "metadata": {
    "collapsed": true
   },
   "outputs": [],
   "source": [
    "clean_df['email_suffix'] = df['email_domain'].map(lambda x: x.split('.')[-1])\n",
    "clean_df['email_suffix'] = clean_df['email_suffix'].astype('category')\n",
    "email_top = ['gmail.com', 'yahoo.com', 'hotmail.com', 'aol.com']\n",
    "clean_df['email_top'] = df['email_domain']\n",
    "clean_df['email_top'] = [0 if i not in email_top else i for i in clean_df['email_top']]\n",
    "clean_df['email_top'] = clean_df['email_top'].astype('category')"
   ]
  },
  {
   "cell_type": "code",
   "execution_count": 14,
   "metadata": {
    "collapsed": true
   },
   "outputs": [],
   "source": [
    "clean_df['fb_published'] = df['fb_published'].astype('bool')\n",
    "clean_df['log_gts'] = np.log(df['gts']+1)"
   ]
  },
  {
   "cell_type": "code",
   "execution_count": 15,
   "metadata": {
    "collapsed": true
   },
   "outputs": [],
   "source": [
    "clean_df['bin_has_analytics'] = df['has_analytics'].fillna(-1)\n",
    "clean_df['bin_has_analytics'] = clean_df['bin_has_analytics'].astype('category')"
   ]
  },
  {
   "cell_type": "code",
   "execution_count": 16,
   "metadata": {
    "collapsed": true
   },
   "outputs": [],
   "source": [
    "clean_df['bin_has_header'] = df['has_header'].fillna(-1)\n",
    "clean_df['bin_has_header'] = clean_df['bin_has_header'].astype('category')"
   ]
  },
  {
   "cell_type": "code",
   "execution_count": 17,
   "metadata": {
    "collapsed": true
   },
   "outputs": [],
   "source": [
    "clean_df['bin_has_logo'] = df['has_logo'].fillna(-1)\n",
    "clean_df['bin_has_logo'] = clean_df['bin_has_logo'].astype('category')"
   ]
  },
  {
   "cell_type": "code",
   "execution_count": 18,
   "metadata": {
    "collapsed": true
   },
   "outputs": [],
   "source": [
    "clean_df['listed'] = df['listed'].copy()"
   ]
  },
  {
   "cell_type": "code",
   "execution_count": 19,
   "metadata": {
    "collapsed": true
   },
   "outputs": [],
   "source": [
    "clean_df['log_num_orders'] = np.log(df['num_order']+1)"
   ]
  },
  {
   "cell_type": "code",
   "execution_count": 20,
   "metadata": {
    "collapsed": true
   },
   "outputs": [],
   "source": [
    "clean_df['bin_num_orders'] = [0 if i<10 else 1 for i in df['num_order']]\n",
    "clean_df['bin_num_orders'] = clean_df['bin_num_orders'].astype('category')"
   ]
  },
  {
   "cell_type": "code",
   "execution_count": 21,
   "metadata": {
    "collapsed": true
   },
   "outputs": [],
   "source": [
    "clean_df['name_length'] = df['name_length'].copy()\n",
    "clean_df['log_num_payouts'] = np.log(df['num_payouts']+1)"
   ]
  },
  {
   "cell_type": "code",
   "execution_count": 22,
   "metadata": {
    "collapsed": true
   },
   "outputs": [],
   "source": [
    "clean_df['org_fb'] = df['org_facebook'].fillna(-1).astype('category')\n",
    "clean_df['org_twitter'] = df['org_twitter'].fillna(-1).astype('category')"
   ]
  },
  {
   "cell_type": "code",
   "execution_count": 23,
   "metadata": {
    "collapsed": true
   },
   "outputs": [],
   "source": [
    "clean_df['bin_payee_name'] = df['payee_name'].fillna(-1)\n",
    "clean_df['bin_payee_name'] = [0 if i==-1 else 1 for i in clean_df['bin_payee_name']]\n",
    "clean_df['bin_payee_name'] = clean_df['bin_payee_name'].astype('category')"
   ]
  },
  {
   "cell_type": "code",
   "execution_count": 24,
   "metadata": {
    "collapsed": true
   },
   "outputs": [],
   "source": [
    "clean_df['payout_type'] = df['payout_type'].fillna(-1)\n",
    "clean_df['payout_type'] = clean_df['payout_type'].astype('category')"
   ]
  },
  {
   "cell_type": "code",
   "execution_count": 25,
   "metadata": {
    "collapsed": true
   },
   "outputs": [],
   "source": [
    "clean_df['show_map'] = df['show_map'].copy()"
   ]
  },
  {
   "cell_type": "code",
   "execution_count": 26,
   "metadata": {
    "collapsed": true
   },
   "outputs": [],
   "source": [
    "lst = []\n",
    "for i in df['ticket_types']:\n",
    "    dic = []\n",
    "    for n in i:\n",
    "        dic.append([int(n['cost'])* int(n['quantity_sold'])])\n",
    "    lst.append(np.sum(dic))"
   ]
  },
  {
   "cell_type": "code",
   "execution_count": 27,
   "metadata": {
    "collapsed": true
   },
   "outputs": [],
   "source": [
    "clean_df['ticket_revenue'] = pd.DataFrame(lst)\n",
    "clean_df['previous_ticket_offers'] = [len(i) for i in df['ticket_types']]"
   ]
  },
  {
   "cell_type": "code",
   "execution_count": 28,
   "metadata": {
    "collapsed": false
   },
   "outputs": [],
   "source": [
    "lst = []\n",
    "for i in df['ticket_types']:\n",
    "    dic = []\n",
    "    for n in i:\n",
    "        dic.append([float(n['quantity_sold'])/ float(n['quantity_total']+1)])\n",
    "    if len(dic) == 0:\n",
    "        lst.append(0)\n",
    "    else:\n",
    "        lst.append(np.mean(dic))"
   ]
  },
  {
   "cell_type": "code",
   "execution_count": 29,
   "metadata": {
    "collapsed": true
   },
   "outputs": [],
   "source": [
    "clean_df['ticket_prev_sold_ratio'] = pd.DataFrame(lst)"
   ]
  },
  {
   "cell_type": "code",
   "execution_count": 30,
   "metadata": {
    "collapsed": true
   },
   "outputs": [],
   "source": [
    "user_age_bin = [0,13, 242, 603, 3794]\n",
    "age_cut = pd.cut(df['user_age'], user_age_bin, right=True, include_lowest=True)\n",
    "clean_df['bin_user_age'] = age_cut"
   ]
  },
  {
   "cell_type": "code",
   "execution_count": 31,
   "metadata": {
    "collapsed": false
   },
   "outputs": [
    {
     "name": "stdout",
     "output_type": "stream",
     "text": [
      "<class 'pandas.core.frame.DataFrame'>\n",
      "Int64Index: 14337 entries, 0 to 14336\n",
      "Data columns (total 27 columns):\n",
      "log_desc_length           14337 non-null float64\n",
      "bin_desc_length           14337 non-null category\n",
      "channels                  14337 non-null category\n",
      "bin_channels              14337 non-null category\n",
      "bin_country               14337 non-null category\n",
      "delivery_method           14337 non-null category\n",
      "email_suffix              14337 non-null category\n",
      "email_top                 14337 non-null category\n",
      "fb_published              14337 non-null bool\n",
      "log_gts                   14337 non-null float64\n",
      "bin_has_analytics         14337 non-null category\n",
      "bin_has_header            14337 non-null category\n",
      "bin_has_logo              14337 non-null category\n",
      "listed                    14337 non-null object\n",
      "log_num_orders            14337 non-null float64\n",
      "bin_num_orders            14337 non-null category\n",
      "name_length               14337 non-null int64\n",
      "log_num_payouts           14337 non-null float64\n",
      "org_fb                    14337 non-null category\n",
      "org_twitter               14337 non-null category\n",
      "bin_payee_name            14337 non-null category\n",
      "payout_type               14337 non-null category\n",
      "show_map                  14337 non-null int64\n",
      "ticket_revenue            14337 non-null float64\n",
      "previous_ticket_offers    14337 non-null int64\n",
      "ticket_prev_sold_ratio    14337 non-null float64\n",
      "bin_user_age              14337 non-null category\n",
      "dtypes: bool(1), category(16), float64(6), int64(3), object(1)\n",
      "memory usage: 1.4+ MB\n"
     ]
    }
   ],
   "source": [
    "clean_df.info()"
   ]
  },
  {
   "cell_type": "code",
   "execution_count": 32,
   "metadata": {
    "collapsed": false
   },
   "outputs": [
    {
     "data": {
      "text/html": [
       "<div>\n",
       "<table border=\"1\" class=\"dataframe\">\n",
       "  <thead>\n",
       "    <tr style=\"text-align: right;\">\n",
       "      <th></th>\n",
       "      <th>0</th>\n",
       "      <th>1</th>\n",
       "      <th>2</th>\n",
       "      <th>3</th>\n",
       "      <th>4</th>\n",
       "    </tr>\n",
       "  </thead>\n",
       "  <tbody>\n",
       "    <tr>\n",
       "      <th>log_desc_length</th>\n",
       "      <td>8.25661</td>\n",
       "      <td>8.16052</td>\n",
       "      <td>7.86404</td>\n",
       "      <td>9.42125</td>\n",
       "      <td>7.7907</td>\n",
       "    </tr>\n",
       "    <tr>\n",
       "      <th>bin_desc_length</th>\n",
       "      <td>1</td>\n",
       "      <td>1</td>\n",
       "      <td>1</td>\n",
       "      <td>1</td>\n",
       "      <td>1</td>\n",
       "    </tr>\n",
       "    <tr>\n",
       "      <th>channels</th>\n",
       "      <td>5</td>\n",
       "      <td>0</td>\n",
       "      <td>8</td>\n",
       "      <td>6</td>\n",
       "      <td>11</td>\n",
       "    </tr>\n",
       "    <tr>\n",
       "      <th>bin_channels</th>\n",
       "      <td>1</td>\n",
       "      <td>0</td>\n",
       "      <td>1</td>\n",
       "      <td>1</td>\n",
       "      <td>1</td>\n",
       "    </tr>\n",
       "    <tr>\n",
       "      <th>bin_country</th>\n",
       "      <td>1</td>\n",
       "      <td>1</td>\n",
       "      <td>1</td>\n",
       "      <td>0</td>\n",
       "      <td>1</td>\n",
       "    </tr>\n",
       "    <tr>\n",
       "      <th>delivery_method</th>\n",
       "      <td>0</td>\n",
       "      <td>1</td>\n",
       "      <td>1</td>\n",
       "      <td>1</td>\n",
       "      <td>0</td>\n",
       "    </tr>\n",
       "    <tr>\n",
       "      <th>email_suffix</th>\n",
       "      <td>com</td>\n",
       "      <td>org</td>\n",
       "      <td>us</td>\n",
       "      <td>com</td>\n",
       "      <td>org</td>\n",
       "    </tr>\n",
       "    <tr>\n",
       "      <th>email_top</th>\n",
       "      <td>gmail.com</td>\n",
       "      <td>0</td>\n",
       "      <td>0</td>\n",
       "      <td>0</td>\n",
       "      <td>0</td>\n",
       "    </tr>\n",
       "    <tr>\n",
       "      <th>fb_published</th>\n",
       "      <td>False</td>\n",
       "      <td>False</td>\n",
       "      <td>False</td>\n",
       "      <td>False</td>\n",
       "      <td>True</td>\n",
       "    </tr>\n",
       "    <tr>\n",
       "      <th>log_gts</th>\n",
       "      <td>0</td>\n",
       "      <td>6.76737</td>\n",
       "      <td>8.1608</td>\n",
       "      <td>7.06335</td>\n",
       "      <td>7.7468</td>\n",
       "    </tr>\n",
       "    <tr>\n",
       "      <th>bin_has_analytics</th>\n",
       "      <td>0</td>\n",
       "      <td>0</td>\n",
       "      <td>0</td>\n",
       "      <td>0</td>\n",
       "      <td>0</td>\n",
       "    </tr>\n",
       "    <tr>\n",
       "      <th>bin_has_header</th>\n",
       "      <td>1</td>\n",
       "      <td>0</td>\n",
       "      <td>-1</td>\n",
       "      <td>0</td>\n",
       "      <td>0</td>\n",
       "    </tr>\n",
       "    <tr>\n",
       "      <th>bin_has_logo</th>\n",
       "      <td>0</td>\n",
       "      <td>1</td>\n",
       "      <td>0</td>\n",
       "      <td>1</td>\n",
       "      <td>0</td>\n",
       "    </tr>\n",
       "    <tr>\n",
       "      <th>listed</th>\n",
       "      <td>y</td>\n",
       "      <td>n</td>\n",
       "      <td>y</td>\n",
       "      <td>y</td>\n",
       "      <td>y</td>\n",
       "    </tr>\n",
       "    <tr>\n",
       "      <th>log_num_orders</th>\n",
       "      <td>0</td>\n",
       "      <td>3.17805</td>\n",
       "      <td>2.99573</td>\n",
       "      <td>3.68888</td>\n",
       "      <td>3.43399</td>\n",
       "    </tr>\n",
       "    <tr>\n",
       "      <th>bin_num_orders</th>\n",
       "      <td>0</td>\n",
       "      <td>1</td>\n",
       "      <td>1</td>\n",
       "      <td>1</td>\n",
       "      <td>1</td>\n",
       "    </tr>\n",
       "    <tr>\n",
       "      <th>name_length</th>\n",
       "      <td>60</td>\n",
       "      <td>27</td>\n",
       "      <td>28</td>\n",
       "      <td>21</td>\n",
       "      <td>66</td>\n",
       "    </tr>\n",
       "    <tr>\n",
       "      <th>log_num_payouts</th>\n",
       "      <td>0</td>\n",
       "      <td>0.693147</td>\n",
       "      <td>1.60944</td>\n",
       "      <td>2.83321</td>\n",
       "      <td>0</td>\n",
       "    </tr>\n",
       "    <tr>\n",
       "      <th>org_fb</th>\n",
       "      <td>0</td>\n",
       "      <td>0</td>\n",
       "      <td>0</td>\n",
       "      <td>0</td>\n",
       "      <td>0</td>\n",
       "    </tr>\n",
       "    <tr>\n",
       "      <th>org_twitter</th>\n",
       "      <td>0</td>\n",
       "      <td>12</td>\n",
       "      <td>0</td>\n",
       "      <td>0</td>\n",
       "      <td>0</td>\n",
       "    </tr>\n",
       "    <tr>\n",
       "      <th>bin_payee_name</th>\n",
       "      <td>1</td>\n",
       "      <td>1</td>\n",
       "      <td>1</td>\n",
       "      <td>1</td>\n",
       "      <td>1</td>\n",
       "    </tr>\n",
       "    <tr>\n",
       "      <th>payout_type</th>\n",
       "      <td></td>\n",
       "      <td>CHECK</td>\n",
       "      <td>CHECK</td>\n",
       "      <td>ACH</td>\n",
       "      <td>CHECK</td>\n",
       "    </tr>\n",
       "    <tr>\n",
       "      <th>show_map</th>\n",
       "      <td>1</td>\n",
       "      <td>0</td>\n",
       "      <td>0</td>\n",
       "      <td>0</td>\n",
       "      <td>0</td>\n",
       "    </tr>\n",
       "    <tr>\n",
       "      <th>ticket_revenue</th>\n",
       "      <td>0</td>\n",
       "      <td>875</td>\n",
       "      <td>4464</td>\n",
       "      <td>795</td>\n",
       "      <td>2399</td>\n",
       "    </tr>\n",
       "    <tr>\n",
       "      <th>previous_ticket_offers</th>\n",
       "      <td>3</td>\n",
       "      <td>2</td>\n",
       "      <td>1</td>\n",
       "      <td>6</td>\n",
       "      <td>8</td>\n",
       "    </tr>\n",
       "    <tr>\n",
       "      <th>ticket_prev_sold_ratio</th>\n",
       "      <td>0</td>\n",
       "      <td>0.245098</td>\n",
       "      <td>0.979592</td>\n",
       "      <td>0.00193295</td>\n",
       "      <td>0.183824</td>\n",
       "    </tr>\n",
       "    <tr>\n",
       "      <th>bin_user_age</th>\n",
       "      <td>(13, 242]</td>\n",
       "      <td>(13, 242]</td>\n",
       "      <td>(13, 242]</td>\n",
       "      <td>(603, 3794]</td>\n",
       "      <td>(13, 242]</td>\n",
       "    </tr>\n",
       "  </tbody>\n",
       "</table>\n",
       "</div>"
      ],
      "text/plain": [
       "                                0          1          2            3  \\\n",
       "log_desc_length           8.25661    8.16052    7.86404      9.42125   \n",
       "bin_desc_length                 1          1          1            1   \n",
       "channels                        5          0          8            6   \n",
       "bin_channels                    1          0          1            1   \n",
       "bin_country                     1          1          1            0   \n",
       "delivery_method                 0          1          1            1   \n",
       "email_suffix                  com        org         us          com   \n",
       "email_top               gmail.com          0          0            0   \n",
       "fb_published                False      False      False        False   \n",
       "log_gts                         0    6.76737     8.1608      7.06335   \n",
       "bin_has_analytics               0          0          0            0   \n",
       "bin_has_header                  1          0         -1            0   \n",
       "bin_has_logo                    0          1          0            1   \n",
       "listed                          y          n          y            y   \n",
       "log_num_orders                  0    3.17805    2.99573      3.68888   \n",
       "bin_num_orders                  0          1          1            1   \n",
       "name_length                    60         27         28           21   \n",
       "log_num_payouts                 0   0.693147    1.60944      2.83321   \n",
       "org_fb                          0          0          0            0   \n",
       "org_twitter                     0         12          0            0   \n",
       "bin_payee_name                  1          1          1            1   \n",
       "payout_type                            CHECK      CHECK          ACH   \n",
       "show_map                        1          0          0            0   \n",
       "ticket_revenue                  0        875       4464          795   \n",
       "previous_ticket_offers          3          2          1            6   \n",
       "ticket_prev_sold_ratio          0   0.245098   0.979592   0.00193295   \n",
       "bin_user_age            (13, 242]  (13, 242]  (13, 242]  (603, 3794]   \n",
       "\n",
       "                                4  \n",
       "log_desc_length            7.7907  \n",
       "bin_desc_length                 1  \n",
       "channels                       11  \n",
       "bin_channels                    1  \n",
       "bin_country                     1  \n",
       "delivery_method                 0  \n",
       "email_suffix                  org  \n",
       "email_top                       0  \n",
       "fb_published                 True  \n",
       "log_gts                    7.7468  \n",
       "bin_has_analytics               0  \n",
       "bin_has_header                  0  \n",
       "bin_has_logo                    0  \n",
       "listed                          y  \n",
       "log_num_orders            3.43399  \n",
       "bin_num_orders                  1  \n",
       "name_length                    66  \n",
       "log_num_payouts                 0  \n",
       "org_fb                          0  \n",
       "org_twitter                     0  \n",
       "bin_payee_name                  1  \n",
       "payout_type                 CHECK  \n",
       "show_map                        0  \n",
       "ticket_revenue               2399  \n",
       "previous_ticket_offers          8  \n",
       "ticket_prev_sold_ratio   0.183824  \n",
       "bin_user_age            (13, 242]  "
      ]
     },
     "execution_count": 32,
     "metadata": {},
     "output_type": "execute_result"
    }
   ],
   "source": [
    "clean_df.head().T"
   ]
  },
  {
   "cell_type": "code",
   "execution_count": 33,
   "metadata": {
    "collapsed": true
   },
   "outputs": [],
   "source": [
    "from bs4 import BeautifulSoup\n",
    "from string import punctuation, ascii_letters\n",
    "\n",
    "def process_text_field(raw_text):\n",
    "    '''\n",
    "    text: string\n",
    "    OUTPUT: boolean, int, int, float (is blank, length, word count, punctuation_rate)\n",
    "    '''\n",
    "    text = BeautifulSoup(raw_text, 'lxml').text\n",
    "    length = len(text)\n",
    "    is_blank = length <= 1\n",
    "\n",
    "    word_count = 0\n",
    "    last_char = False\n",
    "    for c in text:\n",
    "        if c in ascii_letters:\n",
    "            if last_char==False:\n",
    "                word_count += 1\n",
    "                last_char=True\n",
    "        else:\n",
    "            last_char = False\n",
    "    \n",
    "    punct_count = 0\n",
    "    for c in text:\n",
    "        if c in punctuation:\n",
    "            punct_count += 1\n",
    "    punctuation_rate = punct_count / float(length+1)\n",
    "    \n",
    "    return is_blank, length, word_count, punctuation_rate\n",
    "\n",
    "def process_text_column(df, fieldname):\n",
    "    is_blank_list = []\n",
    "    length_list = []\n",
    "    word_count_list = []\n",
    "    punctuation_rate_list = []\n",
    "    for row_ix in range(len(df)):\n",
    "        is_blank, length, word_count, punctuation_rate = process_text_field(df[fieldname][row_ix])\n",
    "        is_blank_list.append(is_blank)\n",
    "        length_list.append(length)\n",
    "        word_count_list.append(word_count)\n",
    "        punctuation_rate_list.append(punctuation_rate)\n",
    "    return is_blank_list, length_list, word_count_list, punctuation_rate_list"
   ]
  },
  {
   "cell_type": "code",
   "execution_count": 34,
   "metadata": {
    "collapsed": false
   },
   "outputs": [
    {
     "name": "stderr",
     "output_type": "stream",
     "text": [
      "/Users/HarryZhang/anaconda/lib/python2.7/site-packages/bs4/__init__.py:207: UserWarning: \"http://www.flagshipsd.com/\" looks like a URL. Beautiful Soup is not an HTTP client. You should probably use an HTTP client to get the document behind the URL, and feed that document to Beautiful Soup.\n",
      "  '\"%s\" looks like a URL. Beautiful Soup is not an HTTP client. You should probably use an HTTP client to get the document behind the URL, and feed that document to Beautiful Soup.' % markup)\n",
      "/Users/HarryZhang/anaconda/lib/python2.7/site-packages/bs4/__init__.py:207: UserWarning: \"http://www.aucklanddyspraxia.org.nz\" looks like a URL. Beautiful Soup is not an HTTP client. You should probably use an HTTP client to get the document behind the URL, and feed that document to Beautiful Soup.\n",
      "  '\"%s\" looks like a URL. Beautiful Soup is not an HTTP client. You should probably use an HTTP client to get the document behind the URL, and feed that document to Beautiful Soup.' % markup)\n",
      "/Users/HarryZhang/anaconda/lib/python2.7/site-packages/bs4/__init__.py:207: UserWarning: \"http://montreal.shambhala.org/2011_2012/program/\" looks like a URL. Beautiful Soup is not an HTTP client. You should probably use an HTTP client to get the document behind the URL, and feed that document to Beautiful Soup.\n",
      "  '\"%s\" looks like a URL. Beautiful Soup is not an HTTP client. You should probably use an HTTP client to get the document behind the URL, and feed that document to Beautiful Soup.' % markup)\n"
     ]
    }
   ],
   "source": [
    "clean_df['description_blank'], \\\n",
    "clean_df['description_length'], \\\n",
    "clean_df['description_wordcount'], \\\n",
    "clean_df['description_punctuationrate'] = process_text_column(df, 'description')\n",
    "\n",
    "clean_df['org_name_blank'], \\\n",
    "clean_df['org_name_length'], \\\n",
    "clean_df['org_name_wordcount'], \\\n",
    "clean_df['org_name_punctuationrate'] = process_text_column(df, 'org_name')\n",
    "\n",
    "clean_df['org_desc_`blank'], \\\n",
    "clean_df['org_desc_length'], \\\n",
    "clean_df['org_desc_wordcount'], \\\n",
    "clean_df['org_desc_punctuation_rate'] = process_text_column(df, 'org_desc')\n",
    "\n",
    "clean_df['all_text'] = map(lambda (s1,s2): s1+s2, zip(df['description'], df['org_desc']))"
   ]
  },
  {
   "cell_type": "code",
   "execution_count": 35,
   "metadata": {
    "collapsed": false
   },
   "outputs": [
    {
     "name": "stderr",
     "output_type": "stream",
     "text": [
      "/Users/HarryZhang/anaconda/lib/python2.7/site-packages/ipykernel/__main__.py:2: SettingWithCopyWarning: \n",
      "A value is trying to be set on a copy of a slice from a DataFrame\n",
      "\n",
      "See the caveats in the documentation: http://pandas.pydata.org/pandas-docs/stable/indexing.html#indexing-view-versus-copy\n",
      "  from ipykernel import kernelapp as app\n",
      "/Users/HarryZhang/anaconda/lib/python2.7/site-packages/ipykernel/__main__.py:3: SettingWithCopyWarning: \n",
      "A value is trying to be set on a copy of a slice from a DataFrame\n",
      "\n",
      "See the caveats in the documentation: http://pandas.pydata.org/pandas-docs/stable/indexing.html#indexing-view-versus-copy\n",
      "  app.launch_new_instance()\n"
     ]
    }
   ],
   "source": [
    "clean_df['venue_country'] = df['venue_country'].copy()\n",
    "clean_df['venue_country'][clean_df['venue_country']==''] = 'None'\n",
    "clean_df['venue_country'][clean_df['venue_country'].isnull()] = 'None'"
   ]
  },
  {
   "cell_type": "code",
   "execution_count": 36,
   "metadata": {
    "collapsed": false
   },
   "outputs": [
    {
     "name": "stdout",
     "output_type": "stream",
     "text": [
      "set([u'AU', 'None', u'CA', u'GB', u'US'])\n"
     ]
    }
   ],
   "source": [
    "top_venue_countries = set(clean_df['venue_country'].value_counts()[0:5].index)\n",
    "print top_venue_countries"
   ]
  },
  {
   "cell_type": "code",
   "execution_count": 37,
   "metadata": {
    "collapsed": false
   },
   "outputs": [],
   "source": [
    "clean_df['venue_country'] = [country if country in top_venue_countries else 'Misc' for country in clean_df['venue_country']]"
   ]
  },
  {
   "cell_type": "code",
   "execution_count": 38,
   "metadata": {
    "collapsed": false
   },
   "outputs": [
    {
     "data": {
      "text/plain": [
       "US      8336\n",
       "None    1952\n",
       "GB      1838\n",
       "CA      1134\n",
       "AU       683\n",
       "Misc     394\n",
       "Name: venue_country, dtype: int64"
      ]
     },
     "execution_count": 38,
     "metadata": {},
     "output_type": "execute_result"
    }
   ],
   "source": [
    "clean_df['venue_country'].value_counts()"
   ]
  },
  {
   "cell_type": "code",
   "execution_count": 39,
   "metadata": {
    "collapsed": true
   },
   "outputs": [],
   "source": [
    "clean_df['venue_name'] = df['venue_name'].copy()"
   ]
  },
  {
   "cell_type": "code",
   "execution_count": 40,
   "metadata": {
    "collapsed": false
   },
   "outputs": [],
   "source": [
    "clean_df['user_type'] = df['user_type'].astype(str)"
   ]
  },
  {
   "cell_type": "code",
   "execution_count": 41,
   "metadata": {
    "collapsed": true
   },
   "outputs": [],
   "source": [
    "def time_process(df,col):\n",
    "    clean_df=pd.DataFrame()\n",
    "    for i in col:\n",
    "        clean_df[i]=df[i].apply(lambda x:datetime.datetime.fromtimestamp(x))\n",
    "    return clean_df"
   ]
  },
  {
   "cell_type": "code",
   "execution_count": 42,
   "metadata": {
    "collapsed": false
   },
   "outputs": [],
   "source": [
    "time_col=['event_start','event_created','event_end','approx_payout_date']\n",
    "\n",
    "time_df = time_process(df,time_col)"
   ]
  },
  {
   "cell_type": "code",
   "execution_count": 43,
   "metadata": {
    "collapsed": false
   },
   "outputs": [],
   "source": [
    "for date in time_col:\n",
    "    time_df['%s_%s'%(date,'year')]=time_df[date].apply(lambda x:x.year)"
   ]
  },
  {
   "cell_type": "code",
   "execution_count": 44,
   "metadata": {
    "collapsed": true
   },
   "outputs": [],
   "source": [
    "for date in time_col:\n",
    "    time_df['%s_%s'%(date,'month')]=time_df[date].apply(lambda x:x.month)"
   ]
  },
  {
   "cell_type": "code",
   "execution_count": 45,
   "metadata": {
    "collapsed": true
   },
   "outputs": [],
   "source": [
    "for date in time_col:\n",
    "    time_df['%s_%s'%(date,'day')]=time_df[date].apply(lambda x:x.day)"
   ]
  },
  {
   "cell_type": "code",
   "execution_count": 46,
   "metadata": {
    "collapsed": true
   },
   "outputs": [],
   "source": [
    "for date in time_col:\n",
    "    time_df['%s_%s'%(date,'hour')]=time_df[date].apply(lambda x:x.hour)"
   ]
  },
  {
   "cell_type": "code",
   "execution_count": 47,
   "metadata": {
    "collapsed": true
   },
   "outputs": [],
   "source": [
    "time_df['crate-start']=-(time_df['event_created'] - time_df['event_start']).astype('timedelta64[D]').astype(int)\n",
    "time_df['start-end']=-(time_df['event_start'] - time_df['event_end']).astype('timedelta64[D]').astype(int)\n",
    "time_df['create-end']=-(time_df['event_created'] - time_df['event_end']).astype('timedelta64[D]').astype(int)"
   ]
  },
  {
   "cell_type": "code",
   "execution_count": 48,
   "metadata": {
    "collapsed": false
   },
   "outputs": [
    {
     "name": "stdout",
     "output_type": "stream",
     "text": [
      "<class 'pandas.core.frame.DataFrame'>\n",
      "Int64Index: 14337 entries, 0 to 14336\n",
      "Data columns (total 23 columns):\n",
      "event_start                 14337 non-null datetime64[ns]\n",
      "event_created               14337 non-null datetime64[ns]\n",
      "event_end                   14337 non-null datetime64[ns]\n",
      "approx_payout_date          14337 non-null datetime64[ns]\n",
      "event_start_year            14337 non-null int64\n",
      "event_created_year          14337 non-null int64\n",
      "event_end_year              14337 non-null int64\n",
      "approx_payout_date_year     14337 non-null int64\n",
      "event_start_month           14337 non-null int64\n",
      "event_created_month         14337 non-null int64\n",
      "event_end_month             14337 non-null int64\n",
      "approx_payout_date_month    14337 non-null int64\n",
      "event_start_day             14337 non-null int64\n",
      "event_created_day           14337 non-null int64\n",
      "event_end_day               14337 non-null int64\n",
      "approx_payout_date_day      14337 non-null int64\n",
      "event_start_hour            14337 non-null int64\n",
      "event_created_hour          14337 non-null int64\n",
      "event_end_hour              14337 non-null int64\n",
      "approx_payout_date_hour     14337 non-null int64\n",
      "crate-start                 14337 non-null int64\n",
      "start-end                   14337 non-null int64\n",
      "create-end                  14337 non-null int64\n",
      "dtypes: datetime64[ns](4), int64(19)\n",
      "memory usage: 2.6 MB\n"
     ]
    }
   ],
   "source": [
    "time_df.info()"
   ]
  },
  {
   "cell_type": "code",
   "execution_count": 49,
   "metadata": {
    "collapsed": false
   },
   "outputs": [
    {
     "data": {
      "text/html": [
       "<div>\n",
       "<table border=\"1\" class=\"dataframe\">\n",
       "  <thead>\n",
       "    <tr style=\"text-align: right;\">\n",
       "      <th></th>\n",
       "      <th>0</th>\n",
       "      <th>1</th>\n",
       "      <th>2</th>\n",
       "      <th>3</th>\n",
       "      <th>4</th>\n",
       "    </tr>\n",
       "  </thead>\n",
       "  <tbody>\n",
       "    <tr>\n",
       "      <th>event_start</th>\n",
       "      <td>2010-02-07 18:00:00</td>\n",
       "      <td>2011-01-28 15:00:00</td>\n",
       "      <td>2011-01-22 08:30:00</td>\n",
       "      <td>2013-02-12 13:00:00</td>\n",
       "      <td>2011-02-11 08:00:00</td>\n",
       "    </tr>\n",
       "    <tr>\n",
       "      <th>event_created</th>\n",
       "      <td>2010-01-05 17:01:46</td>\n",
       "      <td>2010-12-31 13:57:50</td>\n",
       "      <td>2010-11-29 20:22:36</td>\n",
       "      <td>2013-02-12 07:06:10</td>\n",
       "      <td>2010-12-10 07:24:26</td>\n",
       "    </tr>\n",
       "    <tr>\n",
       "      <th>event_end</th>\n",
       "      <td>2010-02-08 04:00:00</td>\n",
       "      <td>2011-01-29 00:00:00</td>\n",
       "      <td>2011-01-22 16:00:00</td>\n",
       "      <td>2013-12-31 16:00:00</td>\n",
       "      <td>2011-02-11 16:00:00</td>\n",
       "    </tr>\n",
       "    <tr>\n",
       "      <th>approx_payout_date</th>\n",
       "      <td>2010-02-13 04:00:00</td>\n",
       "      <td>2011-02-03 00:00:00</td>\n",
       "      <td>2011-01-27 16:00:00</td>\n",
       "      <td>2014-01-05 16:00:00</td>\n",
       "      <td>2011-02-16 16:00:00</td>\n",
       "    </tr>\n",
       "    <tr>\n",
       "      <th>event_start_year</th>\n",
       "      <td>2010</td>\n",
       "      <td>2011</td>\n",
       "      <td>2011</td>\n",
       "      <td>2013</td>\n",
       "      <td>2011</td>\n",
       "    </tr>\n",
       "    <tr>\n",
       "      <th>event_created_year</th>\n",
       "      <td>2010</td>\n",
       "      <td>2010</td>\n",
       "      <td>2010</td>\n",
       "      <td>2013</td>\n",
       "      <td>2010</td>\n",
       "    </tr>\n",
       "    <tr>\n",
       "      <th>event_end_year</th>\n",
       "      <td>2010</td>\n",
       "      <td>2011</td>\n",
       "      <td>2011</td>\n",
       "      <td>2013</td>\n",
       "      <td>2011</td>\n",
       "    </tr>\n",
       "    <tr>\n",
       "      <th>approx_payout_date_year</th>\n",
       "      <td>2010</td>\n",
       "      <td>2011</td>\n",
       "      <td>2011</td>\n",
       "      <td>2014</td>\n",
       "      <td>2011</td>\n",
       "    </tr>\n",
       "    <tr>\n",
       "      <th>event_start_month</th>\n",
       "      <td>2</td>\n",
       "      <td>1</td>\n",
       "      <td>1</td>\n",
       "      <td>2</td>\n",
       "      <td>2</td>\n",
       "    </tr>\n",
       "    <tr>\n",
       "      <th>event_created_month</th>\n",
       "      <td>1</td>\n",
       "      <td>12</td>\n",
       "      <td>11</td>\n",
       "      <td>2</td>\n",
       "      <td>12</td>\n",
       "    </tr>\n",
       "    <tr>\n",
       "      <th>event_end_month</th>\n",
       "      <td>2</td>\n",
       "      <td>1</td>\n",
       "      <td>1</td>\n",
       "      <td>12</td>\n",
       "      <td>2</td>\n",
       "    </tr>\n",
       "    <tr>\n",
       "      <th>approx_payout_date_month</th>\n",
       "      <td>2</td>\n",
       "      <td>2</td>\n",
       "      <td>1</td>\n",
       "      <td>1</td>\n",
       "      <td>2</td>\n",
       "    </tr>\n",
       "    <tr>\n",
       "      <th>event_start_day</th>\n",
       "      <td>7</td>\n",
       "      <td>28</td>\n",
       "      <td>22</td>\n",
       "      <td>12</td>\n",
       "      <td>11</td>\n",
       "    </tr>\n",
       "    <tr>\n",
       "      <th>event_created_day</th>\n",
       "      <td>5</td>\n",
       "      <td>31</td>\n",
       "      <td>29</td>\n",
       "      <td>12</td>\n",
       "      <td>10</td>\n",
       "    </tr>\n",
       "    <tr>\n",
       "      <th>event_end_day</th>\n",
       "      <td>8</td>\n",
       "      <td>29</td>\n",
       "      <td>22</td>\n",
       "      <td>31</td>\n",
       "      <td>11</td>\n",
       "    </tr>\n",
       "    <tr>\n",
       "      <th>approx_payout_date_day</th>\n",
       "      <td>13</td>\n",
       "      <td>3</td>\n",
       "      <td>27</td>\n",
       "      <td>5</td>\n",
       "      <td>16</td>\n",
       "    </tr>\n",
       "    <tr>\n",
       "      <th>event_start_hour</th>\n",
       "      <td>18</td>\n",
       "      <td>15</td>\n",
       "      <td>8</td>\n",
       "      <td>13</td>\n",
       "      <td>8</td>\n",
       "    </tr>\n",
       "    <tr>\n",
       "      <th>event_created_hour</th>\n",
       "      <td>17</td>\n",
       "      <td>13</td>\n",
       "      <td>20</td>\n",
       "      <td>7</td>\n",
       "      <td>7</td>\n",
       "    </tr>\n",
       "    <tr>\n",
       "      <th>event_end_hour</th>\n",
       "      <td>4</td>\n",
       "      <td>0</td>\n",
       "      <td>16</td>\n",
       "      <td>16</td>\n",
       "      <td>16</td>\n",
       "    </tr>\n",
       "    <tr>\n",
       "      <th>approx_payout_date_hour</th>\n",
       "      <td>4</td>\n",
       "      <td>0</td>\n",
       "      <td>16</td>\n",
       "      <td>16</td>\n",
       "      <td>16</td>\n",
       "    </tr>\n",
       "    <tr>\n",
       "      <th>crate-start</th>\n",
       "      <td>34</td>\n",
       "      <td>29</td>\n",
       "      <td>54</td>\n",
       "      <td>1</td>\n",
       "      <td>64</td>\n",
       "    </tr>\n",
       "    <tr>\n",
       "      <th>start-end</th>\n",
       "      <td>1</td>\n",
       "      <td>1</td>\n",
       "      <td>1</td>\n",
       "      <td>323</td>\n",
       "      <td>1</td>\n",
       "    </tr>\n",
       "    <tr>\n",
       "      <th>create-end</th>\n",
       "      <td>34</td>\n",
       "      <td>29</td>\n",
       "      <td>54</td>\n",
       "      <td>323</td>\n",
       "      <td>64</td>\n",
       "    </tr>\n",
       "  </tbody>\n",
       "</table>\n",
       "</div>"
      ],
      "text/plain": [
       "                                            0                    1  \\\n",
       "event_start               2010-02-07 18:00:00  2011-01-28 15:00:00   \n",
       "event_created             2010-01-05 17:01:46  2010-12-31 13:57:50   \n",
       "event_end                 2010-02-08 04:00:00  2011-01-29 00:00:00   \n",
       "approx_payout_date        2010-02-13 04:00:00  2011-02-03 00:00:00   \n",
       "event_start_year                         2010                 2011   \n",
       "event_created_year                       2010                 2010   \n",
       "event_end_year                           2010                 2011   \n",
       "approx_payout_date_year                  2010                 2011   \n",
       "event_start_month                           2                    1   \n",
       "event_created_month                         1                   12   \n",
       "event_end_month                             2                    1   \n",
       "approx_payout_date_month                    2                    2   \n",
       "event_start_day                             7                   28   \n",
       "event_created_day                           5                   31   \n",
       "event_end_day                               8                   29   \n",
       "approx_payout_date_day                     13                    3   \n",
       "event_start_hour                           18                   15   \n",
       "event_created_hour                         17                   13   \n",
       "event_end_hour                              4                    0   \n",
       "approx_payout_date_hour                     4                    0   \n",
       "crate-start                                34                   29   \n",
       "start-end                                   1                    1   \n",
       "create-end                                 34                   29   \n",
       "\n",
       "                                            2                    3  \\\n",
       "event_start               2011-01-22 08:30:00  2013-02-12 13:00:00   \n",
       "event_created             2010-11-29 20:22:36  2013-02-12 07:06:10   \n",
       "event_end                 2011-01-22 16:00:00  2013-12-31 16:00:00   \n",
       "approx_payout_date        2011-01-27 16:00:00  2014-01-05 16:00:00   \n",
       "event_start_year                         2011                 2013   \n",
       "event_created_year                       2010                 2013   \n",
       "event_end_year                           2011                 2013   \n",
       "approx_payout_date_year                  2011                 2014   \n",
       "event_start_month                           1                    2   \n",
       "event_created_month                        11                    2   \n",
       "event_end_month                             1                   12   \n",
       "approx_payout_date_month                    1                    1   \n",
       "event_start_day                            22                   12   \n",
       "event_created_day                          29                   12   \n",
       "event_end_day                              22                   31   \n",
       "approx_payout_date_day                     27                    5   \n",
       "event_start_hour                            8                   13   \n",
       "event_created_hour                         20                    7   \n",
       "event_end_hour                             16                   16   \n",
       "approx_payout_date_hour                    16                   16   \n",
       "crate-start                                54                    1   \n",
       "start-end                                   1                  323   \n",
       "create-end                                 54                  323   \n",
       "\n",
       "                                            4  \n",
       "event_start               2011-02-11 08:00:00  \n",
       "event_created             2010-12-10 07:24:26  \n",
       "event_end                 2011-02-11 16:00:00  \n",
       "approx_payout_date        2011-02-16 16:00:00  \n",
       "event_start_year                         2011  \n",
       "event_created_year                       2010  \n",
       "event_end_year                           2011  \n",
       "approx_payout_date_year                  2011  \n",
       "event_start_month                           2  \n",
       "event_created_month                        12  \n",
       "event_end_month                             2  \n",
       "approx_payout_date_month                    2  \n",
       "event_start_day                            11  \n",
       "event_created_day                          10  \n",
       "event_end_day                              11  \n",
       "approx_payout_date_day                     16  \n",
       "event_start_hour                            8  \n",
       "event_created_hour                          7  \n",
       "event_end_hour                             16  \n",
       "approx_payout_date_hour                    16  \n",
       "crate-start                                64  \n",
       "start-end                                   1  \n",
       "create-end                                 64  "
      ]
     },
     "execution_count": 49,
     "metadata": {},
     "output_type": "execute_result"
    }
   ],
   "source": [
    "time_df.head().T"
   ]
  },
  {
   "cell_type": "code",
   "execution_count": 50,
   "metadata": {
    "collapsed": true
   },
   "outputs": [],
   "source": [
    "df1 = pd.concat([clean_df, time_df], axis=1)"
   ]
  },
  {
   "cell_type": "code",
   "execution_count": 51,
   "metadata": {
    "collapsed": false
   },
   "outputs": [
    {
     "name": "stdout",
     "output_type": "stream",
     "text": [
      "<class 'pandas.core.frame.DataFrame'>\n",
      "Int64Index: 14337 entries, 0 to 14336\n",
      "Data columns (total 66 columns):\n",
      "log_desc_length                14337 non-null float64\n",
      "bin_desc_length                14337 non-null category\n",
      "channels                       14337 non-null category\n",
      "bin_channels                   14337 non-null category\n",
      "bin_country                    14337 non-null category\n",
      "delivery_method                14337 non-null category\n",
      "email_suffix                   14337 non-null category\n",
      "email_top                      14337 non-null category\n",
      "fb_published                   14337 non-null bool\n",
      "log_gts                        14337 non-null float64\n",
      "bin_has_analytics              14337 non-null category\n",
      "bin_has_header                 14337 non-null category\n",
      "bin_has_logo                   14337 non-null category\n",
      "listed                         14337 non-null object\n",
      "log_num_orders                 14337 non-null float64\n",
      "bin_num_orders                 14337 non-null category\n",
      "name_length                    14337 non-null int64\n",
      "log_num_payouts                14337 non-null float64\n",
      "org_fb                         14337 non-null category\n",
      "org_twitter                    14337 non-null category\n",
      "bin_payee_name                 14337 non-null category\n",
      "payout_type                    14337 non-null category\n",
      "show_map                       14337 non-null int64\n",
      "ticket_revenue                 14337 non-null float64\n",
      "previous_ticket_offers         14337 non-null int64\n",
      "ticket_prev_sold_ratio         14337 non-null float64\n",
      "bin_user_age                   14337 non-null category\n",
      "description_blank              14337 non-null bool\n",
      "description_length             14337 non-null int64\n",
      "description_wordcount          14337 non-null int64\n",
      "description_punctuationrate    14337 non-null float64\n",
      "org_name_blank                 14337 non-null bool\n",
      "org_name_length                14337 non-null int64\n",
      "org_name_wordcount             14337 non-null int64\n",
      "org_name_punctuationrate       14337 non-null float64\n",
      "org_desc_`blank                14337 non-null bool\n",
      "org_desc_length                14337 non-null int64\n",
      "org_desc_wordcount             14337 non-null int64\n",
      "org_desc_punctuation_rate      14337 non-null float64\n",
      "all_text                       14337 non-null object\n",
      "venue_country                  14337 non-null object\n",
      "venue_name                     13261 non-null object\n",
      "user_type                      14337 non-null object\n",
      "event_start                    14337 non-null datetime64[ns]\n",
      "event_created                  14337 non-null datetime64[ns]\n",
      "event_end                      14337 non-null datetime64[ns]\n",
      "approx_payout_date             14337 non-null datetime64[ns]\n",
      "event_start_year               14337 non-null int64\n",
      "event_created_year             14337 non-null int64\n",
      "event_end_year                 14337 non-null int64\n",
      "approx_payout_date_year        14337 non-null int64\n",
      "event_start_month              14337 non-null int64\n",
      "event_created_month            14337 non-null int64\n",
      "event_end_month                14337 non-null int64\n",
      "approx_payout_date_month       14337 non-null int64\n",
      "event_start_day                14337 non-null int64\n",
      "event_created_day              14337 non-null int64\n",
      "event_end_day                  14337 non-null int64\n",
      "approx_payout_date_day         14337 non-null int64\n",
      "event_start_hour               14337 non-null int64\n",
      "event_created_hour             14337 non-null int64\n",
      "event_end_hour                 14337 non-null int64\n",
      "approx_payout_date_hour        14337 non-null int64\n",
      "crate-start                    14337 non-null int64\n",
      "start-end                      14337 non-null int64\n",
      "create-end                     14337 non-null int64\n",
      "dtypes: bool(4), category(16), datetime64[ns](4), float64(9), int64(28), object(5)\n",
      "memory usage: 5.4+ MB\n"
     ]
    }
   ],
   "source": [
    "df1.info()"
   ]
  },
  {
   "cell_type": "code",
   "execution_count": 52,
   "metadata": {
    "collapsed": true
   },
   "outputs": [],
   "source": [
    "df1['venue_name'].fillna('', inplace=True)"
   ]
  },
  {
   "cell_type": "code",
   "execution_count": 53,
   "metadata": {
    "collapsed": false
   },
   "outputs": [
    {
     "name": "stdout",
     "output_type": "stream",
     "text": [
      "<class 'pandas.core.frame.DataFrame'>\n",
      "Int64Index: 14337 entries, 0 to 14336\n",
      "Data columns (total 66 columns):\n",
      "log_desc_length                14337 non-null float64\n",
      "bin_desc_length                14337 non-null category\n",
      "channels                       14337 non-null category\n",
      "bin_channels                   14337 non-null category\n",
      "bin_country                    14337 non-null category\n",
      "delivery_method                14337 non-null category\n",
      "email_suffix                   14337 non-null category\n",
      "email_top                      14337 non-null category\n",
      "fb_published                   14337 non-null bool\n",
      "log_gts                        14337 non-null float64\n",
      "bin_has_analytics              14337 non-null category\n",
      "bin_has_header                 14337 non-null category\n",
      "bin_has_logo                   14337 non-null category\n",
      "listed                         14337 non-null object\n",
      "log_num_orders                 14337 non-null float64\n",
      "bin_num_orders                 14337 non-null category\n",
      "name_length                    14337 non-null int64\n",
      "log_num_payouts                14337 non-null float64\n",
      "org_fb                         14337 non-null category\n",
      "org_twitter                    14337 non-null category\n",
      "bin_payee_name                 14337 non-null category\n",
      "payout_type                    14337 non-null category\n",
      "show_map                       14337 non-null int64\n",
      "ticket_revenue                 14337 non-null float64\n",
      "previous_ticket_offers         14337 non-null int64\n",
      "ticket_prev_sold_ratio         14337 non-null float64\n",
      "bin_user_age                   14337 non-null category\n",
      "description_blank              14337 non-null bool\n",
      "description_length             14337 non-null int64\n",
      "description_wordcount          14337 non-null int64\n",
      "description_punctuationrate    14337 non-null float64\n",
      "org_name_blank                 14337 non-null bool\n",
      "org_name_length                14337 non-null int64\n",
      "org_name_wordcount             14337 non-null int64\n",
      "org_name_punctuationrate       14337 non-null float64\n",
      "org_desc_`blank                14337 non-null bool\n",
      "org_desc_length                14337 non-null int64\n",
      "org_desc_wordcount             14337 non-null int64\n",
      "org_desc_punctuation_rate      14337 non-null float64\n",
      "all_text                       14337 non-null object\n",
      "venue_country                  14337 non-null object\n",
      "venue_name                     14337 non-null object\n",
      "user_type                      14337 non-null object\n",
      "event_start                    14337 non-null datetime64[ns]\n",
      "event_created                  14337 non-null datetime64[ns]\n",
      "event_end                      14337 non-null datetime64[ns]\n",
      "approx_payout_date             14337 non-null datetime64[ns]\n",
      "event_start_year               14337 non-null int64\n",
      "event_created_year             14337 non-null int64\n",
      "event_end_year                 14337 non-null int64\n",
      "approx_payout_date_year        14337 non-null int64\n",
      "event_start_month              14337 non-null int64\n",
      "event_created_month            14337 non-null int64\n",
      "event_end_month                14337 non-null int64\n",
      "approx_payout_date_month       14337 non-null int64\n",
      "event_start_day                14337 non-null int64\n",
      "event_created_day              14337 non-null int64\n",
      "event_end_day                  14337 non-null int64\n",
      "approx_payout_date_day         14337 non-null int64\n",
      "event_start_hour               14337 non-null int64\n",
      "event_created_hour             14337 non-null int64\n",
      "event_end_hour                 14337 non-null int64\n",
      "approx_payout_date_hour        14337 non-null int64\n",
      "crate-start                    14337 non-null int64\n",
      "start-end                      14337 non-null int64\n",
      "create-end                     14337 non-null int64\n",
      "dtypes: bool(4), category(16), datetime64[ns](4), float64(9), int64(28), object(5)\n",
      "memory usage: 5.4+ MB\n"
     ]
    }
   ],
   "source": [
    "df1.info()"
   ]
  },
  {
   "cell_type": "code",
   "execution_count": 54,
   "metadata": {
    "collapsed": false
   },
   "outputs": [
    {
     "data": {
      "text/plain": [
       "14337"
      ]
     },
     "execution_count": 54,
     "metadata": {},
     "output_type": "execute_result"
    }
   ],
   "source": [
    "len(df1['venue_name'])"
   ]
  },
  {
   "cell_type": "code",
   "execution_count": 55,
   "metadata": {
    "collapsed": true
   },
   "outputs": [],
   "source": [
    "df1.drop('venue_name',axis=1, inplace=True)"
   ]
  },
  {
   "cell_type": "code",
   "execution_count": 56,
   "metadata": {
    "collapsed": false
   },
   "outputs": [
    {
     "name": "stdout",
     "output_type": "stream",
     "text": [
      "<class 'pandas.core.frame.DataFrame'>\n",
      "Int64Index: 14337 entries, 0 to 14336\n",
      "Data columns (total 65 columns):\n",
      "log_desc_length                14337 non-null float64\n",
      "bin_desc_length                14337 non-null category\n",
      "channels                       14337 non-null category\n",
      "bin_channels                   14337 non-null category\n",
      "bin_country                    14337 non-null category\n",
      "delivery_method                14337 non-null category\n",
      "email_suffix                   14337 non-null category\n",
      "email_top                      14337 non-null category\n",
      "fb_published                   14337 non-null bool\n",
      "log_gts                        14337 non-null float64\n",
      "bin_has_analytics              14337 non-null category\n",
      "bin_has_header                 14337 non-null category\n",
      "bin_has_logo                   14337 non-null category\n",
      "listed                         14337 non-null object\n",
      "log_num_orders                 14337 non-null float64\n",
      "bin_num_orders                 14337 non-null category\n",
      "name_length                    14337 non-null int64\n",
      "log_num_payouts                14337 non-null float64\n",
      "org_fb                         14337 non-null category\n",
      "org_twitter                    14337 non-null category\n",
      "bin_payee_name                 14337 non-null category\n",
      "payout_type                    14337 non-null category\n",
      "show_map                       14337 non-null int64\n",
      "ticket_revenue                 14337 non-null float64\n",
      "previous_ticket_offers         14337 non-null int64\n",
      "ticket_prev_sold_ratio         14337 non-null float64\n",
      "bin_user_age                   14337 non-null category\n",
      "description_blank              14337 non-null bool\n",
      "description_length             14337 non-null int64\n",
      "description_wordcount          14337 non-null int64\n",
      "description_punctuationrate    14337 non-null float64\n",
      "org_name_blank                 14337 non-null bool\n",
      "org_name_length                14337 non-null int64\n",
      "org_name_wordcount             14337 non-null int64\n",
      "org_name_punctuationrate       14337 non-null float64\n",
      "org_desc_`blank                14337 non-null bool\n",
      "org_desc_length                14337 non-null int64\n",
      "org_desc_wordcount             14337 non-null int64\n",
      "org_desc_punctuation_rate      14337 non-null float64\n",
      "all_text                       14337 non-null object\n",
      "venue_country                  14337 non-null object\n",
      "user_type                      14337 non-null object\n",
      "event_start                    14337 non-null datetime64[ns]\n",
      "event_created                  14337 non-null datetime64[ns]\n",
      "event_end                      14337 non-null datetime64[ns]\n",
      "approx_payout_date             14337 non-null datetime64[ns]\n",
      "event_start_year               14337 non-null int64\n",
      "event_created_year             14337 non-null int64\n",
      "event_end_year                 14337 non-null int64\n",
      "approx_payout_date_year        14337 non-null int64\n",
      "event_start_month              14337 non-null int64\n",
      "event_created_month            14337 non-null int64\n",
      "event_end_month                14337 non-null int64\n",
      "approx_payout_date_month       14337 non-null int64\n",
      "event_start_day                14337 non-null int64\n",
      "event_created_day              14337 non-null int64\n",
      "event_end_day                  14337 non-null int64\n",
      "approx_payout_date_day         14337 non-null int64\n",
      "event_start_hour               14337 non-null int64\n",
      "event_created_hour             14337 non-null int64\n",
      "event_end_hour                 14337 non-null int64\n",
      "approx_payout_date_hour        14337 non-null int64\n",
      "crate-start                    14337 non-null int64\n",
      "start-end                      14337 non-null int64\n",
      "create-end                     14337 non-null int64\n",
      "dtypes: bool(4), category(16), datetime64[ns](4), float64(9), int64(28), object(4)\n",
      "memory usage: 5.3+ MB\n"
     ]
    }
   ],
   "source": [
    "df1.info()"
   ]
  },
  {
   "cell_type": "markdown",
   "metadata": {},
   "source": [
    "# Modelling"
   ]
  },
  {
   "cell_type": "code",
   "execution_count": 57,
   "metadata": {
    "collapsed": false
   },
   "outputs": [],
   "source": [
    "from sklearn.naive_bayes import MultinomialNB\n",
    "from sklearn.cross_validation import train_test_split\n",
    "from sklearn.feature_extraction.text import TfidfVectorizer\n",
    "\n",
    "vectorizer = TfidfVectorizer(stop_words='english', strip_accents='ascii',lowercase=False, min_df=0.0033)\n",
    "words_matrix = vectorizer.fit_transform(df['description'])\n",
    "\n",
    "X_train, X_test, y_train, y_test = train_test_split(words_matrix, y)\n",
    "\n",
    "model = MultinomialNB()\n",
    "model.fit(X_train, y_train)\n",
    "df1['bayes_prob']= model.predict_proba(words_matrix)[:,1]"
   ]
  },
  {
   "cell_type": "code",
   "execution_count": null,
   "metadata": {
    "collapsed": true
   },
   "outputs": [],
   "source": []
  },
  {
   "cell_type": "code",
   "execution_count": 58,
   "metadata": {
    "collapsed": false
   },
   "outputs": [],
   "source": [
    "df2 = df1[[u'log_desc_length', #&&&u'bin_desc_length', \n",
    "           u'channels', \n",
    "           #3&&&u'bin_channels', \n",
    "     u'bin_country', \n",
    "           u'delivery_method',\n",
    "  #**u'email_suffix', u'email_top',\n",
    "     #6&&&u'fb_published', \n",
    "     u'log_gts', \n",
    "     #8&&&u'bin_has_analytics', \n",
    "        u'bin_has_header',\n",
    "     #10&&&u'bin_has_logo', \n",
    "  #u'listed', \n",
    "  u'log_num_orders',\n",
    "  u'bin_num_orders',\n",
    "     u'name_length', u'log_num_payouts', \n",
    "  u'org_fb', u'org_twitter',\n",
    "     #17&&&u'bin_payee_name', \n",
    "  #**u'payout_type', \n",
    "     #18&&&u'show_map', \n",
    "        u'ticket_revenue',\n",
    "     u'previous_ticket_offers', \n",
    "     u'ticket_prev_sold_ratio', \n",
    "     #**u'bin_user_age',\n",
    "     #22&&&u'description_blank', \n",
    "        u'description_length', u'description_wordcount',\n",
    "     u'description_punctuationrate', u'org_name_blank', u'org_name_length',\n",
    "     u'org_name_wordcount', \n",
    "        #29&&&u'org_name_punctuationrate', \n",
    "        #30&&&u'org_desc_`blank',\n",
    "     u'org_desc_length', \n",
    "    #32&&&u'org_desc_wordcount', \n",
    "    u'org_desc_punctuation_rate',\n",
    "     #u'all_text', \n",
    "      #**u'venue_country', \n",
    "  #    u'venue_name', \n",
    "      u'user_type',\n",
    "  #    u'event_start', \n",
    "  #    u'event_created', \n",
    "  #    u'event_end', \n",
    "  #   u'approx_payout_date',\n",
    "     u'event_start_year', \n",
    "    #&&&u'event_created_year', u'event_end_year',\n",
    "     #u'approx_payout_date_year', u'event_start_month',\n",
    "     u'event_created_month', u'event_end_month', u'approx_payout_date_month',\n",
    "     #u'event_start_day', u'event_created_day', u'event_end_day',\n",
    "     #u'approx_payout_date_day', u'event_start_hour', u'event_created_hour',\n",
    "     u'event_end_hour', u'approx_payout_date_hour', u'crate-start',\n",
    "     #u'start-end', u'create-end'\n",
    "       u'bayes_prob' ]]"
   ]
  },
  {
   "cell_type": "code",
   "execution_count": 59,
   "metadata": {
    "collapsed": false
   },
   "outputs": [],
   "source": [
    "from sklearn.ensemble import RandomForestClassifier\n",
    "from sklearn.metrics import roc_auc_score\n",
    "from sklearn.cross_validation import train_test_split\n",
    "from sklearn.preprocessing import StandardScaler"
   ]
  },
  {
   "cell_type": "code",
   "execution_count": 60,
   "metadata": {
    "collapsed": true
   },
   "outputs": [],
   "source": [
    "X_train, X_test, y_train, y_test = train_test_split(df2, y)\n"
   ]
  },
  {
   "cell_type": "code",
   "execution_count": 61,
   "metadata": {
    "collapsed": false
   },
   "outputs": [
    {
     "data": {
      "text/plain": [
       "GradientBoostingClassifier(init=None, learning_rate=0.01, loss='deviance',\n",
       "              max_depth=3, max_features='auto', max_leaf_nodes=None,\n",
       "              min_samples_leaf=1, min_samples_split=2,\n",
       "              min_weight_fraction_leaf=0.0, n_estimators=2000,\n",
       "              presort='auto', random_state=None, subsample=0.5, verbose=0,\n",
       "              warm_start=False)"
      ]
     },
     "execution_count": 61,
     "metadata": {},
     "output_type": "execute_result"
    }
   ],
   "source": [
    "from sklearn.ensemble import GradientBoostingClassifier\n",
    "gbc = GradientBoostingClassifier(n_estimators=2000, max_depth=3, subsample=0.5, \n",
    "                                 max_features='auto', learning_rate=0.01)\n",
    "gbc.fit(X_train, y_train)"
   ]
  },
  {
   "cell_type": "code",
   "execution_count": 62,
   "metadata": {
    "collapsed": false
   },
   "outputs": [
    {
     "data": {
      "text/plain": [
       "0.90671133812205862"
      ]
     },
     "execution_count": 62,
     "metadata": {},
     "output_type": "execute_result"
    }
   ],
   "source": [
    "roc_auc_score(y_test, gbc.predict_proba(X_test)[:, 1])"
   ]
  },
  {
   "cell_type": "code",
   "execution_count": 63,
   "metadata": {
    "collapsed": true
   },
   "outputs": [],
   "source": [
    "import cPickle as pickle"
   ]
  },
  {
   "cell_type": "code",
   "execution_count": 64,
   "metadata": {
    "collapsed": true
   },
   "outputs": [],
   "source": [
    "with open(\"gbc_model.pkl\", 'w') as f:\n",
    "    pickle.dump(gbc, f)"
   ]
  },
  {
   "cell_type": "code",
   "execution_count": 65,
   "metadata": {
    "collapsed": false
   },
   "outputs": [
    {
     "data": {
      "text/plain": [
       "(10752, 32)"
      ]
     },
     "execution_count": 65,
     "metadata": {},
     "output_type": "execute_result"
    }
   ],
   "source": [
    "X_train.shape"
   ]
  },
  {
   "cell_type": "code",
   "execution_count": 66,
   "metadata": {
    "collapsed": true
   },
   "outputs": [],
   "source": [
    "from sklearn.feature_selection import SelectKBest"
   ]
  },
  {
   "cell_type": "code",
   "execution_count": 67,
   "metadata": {
    "collapsed": true
   },
   "outputs": [],
   "source": [
    "from sklearn.ensemble import ExtraTreesClassifier\n",
    "from sklearn.feature_selection import SelectFromModel\n",
    "clf = ExtraTreesClassifier()"
   ]
  },
  {
   "cell_type": "code",
   "execution_count": 68,
   "metadata": {
    "collapsed": true
   },
   "outputs": [],
   "source": [
    "clf = clf.fit(X_train, y_train)"
   ]
  },
  {
   "cell_type": "code",
   "execution_count": 69,
   "metadata": {
    "collapsed": false
   },
   "outputs": [],
   "source": [
    "importances = clf.feature_importances_"
   ]
  },
  {
   "cell_type": "code",
   "execution_count": 70,
   "metadata": {
    "collapsed": true
   },
   "outputs": [],
   "source": [
    "std = np.std([tree.feature_importances_ for tree in clf.estimators_],\n",
    "             axis=0)\n",
    "indices = np.argsort(importances)[::-1]"
   ]
  },
  {
   "cell_type": "code",
   "execution_count": 71,
   "metadata": {
    "collapsed": false
   },
   "outputs": [
    {
     "name": "stdout",
     "output_type": "stream",
     "text": [
      "Feature ranking:\n",
      "1. feature 4 (0.077010)\n",
      "2. feature 31 (0.073555)\n",
      "3. feature 6 (0.058114)\n",
      "4. feature 0 (0.053008)\n",
      "5. feature 30 (0.052944)\n",
      "6. feature 9 (0.045573)\n",
      "7. feature 23 (0.037434)\n",
      "8. feature 14 (0.037281)\n",
      "9. feature 12 (0.033936)\n",
      "10. feature 28 (0.032474)\n",
      "11. feature 19 (0.030755)\n",
      "12. feature 18 (0.029350)\n",
      "13. feature 25 (0.025084)\n",
      "14. feature 8 (0.024898)\n",
      "15. feature 24 (0.023712)\n",
      "16. feature 16 (0.023568)\n",
      "17. feature 20 (0.023567)\n",
      "18. feature 29 (0.023131)\n",
      "19. feature 11 (0.022865)\n",
      "20. feature 17 (0.022834)\n",
      "21. feature 1 (0.022581)\n",
      "22. feature 13 (0.022385)\n",
      "23. feature 3 (0.022284)\n",
      "24. feature 15 (0.022276)\n",
      "25. feature 7 (0.021264)\n",
      "26. feature 10 (0.020891)\n",
      "27. feature 26 (0.020737)\n",
      "28. feature 27 (0.020402)\n",
      "29. feature 21 (0.019696)\n",
      "30. feature 2 (0.018922)\n",
      "31. feature 5 (0.018778)\n",
      "32. feature 22 (0.018691)\n"
     ]
    },
    {
     "data": {
      "image/png": "[encoded data removed]",
      "text/plain": [
       "<matplotlib.figure.Figure at 0x117b85410>"
      ]
     },
     "metadata": {},
     "output_type": "display_data"
    }
   ],
   "source": [
    "# Print the feature ranking\n",
    "print(\"Feature ranking:\")\n",
    "\n",
    "for f in range(X_train.shape[1]):\n",
    "    print(\"%d. feature %d (%f)\" % (f + 1, indices[f], importances[indices[f]]))\n",
    "\n",
    "# Plot the feature importances of the forest\n",
    "plt.figure()\n",
    "plt.title(\"Feature importances\")\n",
    "plt.bar(range(X_train.shape[1]), importances[indices],\n",
    "       color=\"r\", yerr=std[indices], align=\"center\")\n",
    "plt.xticks(range(X_train.shape[1]), indices)\n",
    "plt.xlim([-1, X_train.shape[1]])\n",
    "plt.show()"
   ]
  },
  {
   "cell_type": "code",
   "execution_count": 72,
   "metadata": {
    "collapsed": false
   },
   "outputs": [
    {
     "data": {
      "text/plain": [
       "GradientBoostingClassifier(init=None, learning_rate=0.01, loss='deviance',\n",
       "              max_depth=8, max_features='auto', max_leaf_nodes=None,\n",
       "              min_samples_leaf=1, min_samples_split=2,\n",
       "              min_weight_fraction_leaf=0.0, n_estimators=2000,\n",
       "              presort='auto', random_state=None, subsample=0.5, verbose=0,\n",
       "              warm_start=False)"
      ]
     },
     "execution_count": 72,
     "metadata": {},
     "output_type": "execute_result"
    }
   ],
   "source": [
    "X_train, X_test, y_train, y_test = train_test_split(df2, y)\n",
    "gbc = GradientBoostingClassifier(n_estimators=2000, max_depth=8, subsample=0.5, \n",
    "                                 max_features='auto', learning_rate=0.01)\n",
    "gbc.fit(X_train, y_train)"
   ]
  },
  {
   "cell_type": "code",
   "execution_count": 73,
   "metadata": {
    "collapsed": false
   },
   "outputs": [
    {
     "data": {
      "text/plain": [
       "0.9337927557048199"
      ]
     },
     "execution_count": 73,
     "metadata": {},
     "output_type": "execute_result"
    }
   ],
   "source": [
    "roc_auc_score(y_test, gbc.predict_proba(X_test)[:, 1])"
   ]
  },
  {
   "cell_type": "code",
   "execution_count": 74,
   "metadata": {
    "collapsed": true
   },
   "outputs": [],
   "source": [
    "with open(\"gbc_model_final.pkl\", 'w') as f:\n",
    "    pickle.dump(gbc, f)"
   ]
  },
  {
   "cell_type": "code",
   "execution_count": 75,
   "metadata": {
    "collapsed": true
   },
   "outputs": [],
   "source": [
    "with open(\"gbc_model.pkl\") as f_un:\n",
    "    model_unpickled = pickle.load(f_un)"
   ]
  },
  {
   "cell_type": "code",
   "execution_count": 76,
   "metadata": {
    "collapsed": false
   },
   "outputs": [
    {
     "data": {
      "text/plain": [
       "0.96008699578844525"
      ]
     },
     "execution_count": 76,
     "metadata": {},
     "output_type": "execute_result"
    }
   ],
   "source": [
    "roc_auc_score(y_test, model_unpickled.predict_proba(X_test)[:, 1])"
   ]
  },
  {
   "cell_type": "code",
   "execution_count": 77,
   "metadata": {
    "collapsed": true
   },
   "outputs": [],
   "source": [
    "def roc_curve(probabilities, labels):\n",
    "    '''\n",
    "    INPUT: numpy array, numpy array\n",
    "    OUTPUT: list, list, list\n",
    "\n",
    "    Take a numpy array of the predicted probabilities and a numpy array of the\n",
    "    true labels.\n",
    "    Return the True Positive Rates, False Positive Rates and Thresholds for the\n",
    "    ROC curve.\n",
    "    '''\n",
    "\n",
    "    thresholds = np.sort(probabilities)\n",
    "\n",
    "    tprs = []\n",
    "    fprs = []\n",
    "\n",
    "    num_positive_cases = sum(labels)\n",
    "    num_negative_cases = len(labels) - num_positive_cases\n",
    "\n",
    "    for threshold in thresholds:\n",
    "        # With this threshold, give the prediction of each instance\n",
    "        predicted_positive = probabilities >= threshold\n",
    "        # Calculate the number of correctly predicted positive cases\n",
    "        true_positives = np.sum(predicted_positive * labels)\n",
    "        # Calculate the number of incorrectly predicted positive cases\n",
    "        false_positives = np.sum(predicted_positive) - true_positives\n",
    "        # Calculate the True Positive Rate\n",
    "        tpr = true_positives / float(num_positive_cases)\n",
    "        # Calculate the False Positive Rate\n",
    "        fpr = false_positives / float(num_negative_cases)\n",
    "\n",
    "        fprs.append(fpr)\n",
    "        tprs.append(tpr)\n",
    "    \n",
    "    return tprs, fprs, thresholds.tolist()\n",
    "\n",
    "def plot_roc(probs, y_true, title, xlabel, ylabel):\n",
    "    # ROC\n",
    "    tpr, fpr, thresholds = roc_curve(v_probs, y_test)\n",
    "\n",
    "    plt.hold(True)\n",
    "    plt.plot(fpr, tpr)\n",
    "\n",
    "    # 45 degree line\n",
    "    xx = np.linspace(0, 1.0, 20)\n",
    "    plt.plot(xx, xx, color='red')\n",
    "\n",
    "    plt.xlabel(xlabel)\n",
    "    plt.ylabel(ylabel)\n",
    "    plt.title(title)\n",
    "\n",
    "    plt.show()"
   ]
  },
  {
   "cell_type": "code",
   "execution_count": 78,
   "metadata": {
    "collapsed": true
   },
   "outputs": [],
   "source": [
    "v_probs = model_unpickled.predict_proba(X_test)[:, 1]"
   ]
  },
  {
   "cell_type": "code",
   "execution_count": 79,
   "metadata": {
    "collapsed": false
   },
   "outputs": [
    {
     "name": "stderr",
     "output_type": "stream",
     "text": [
      "/Users/HarryZhang/anaconda/lib/python2.7/site-packages/pandas/computation/expressions.py:190: UserWarning: evaluating in Python space because the '*' operator is not supported by numexpr for the bool dtype, use '&' instead\n",
      "  unsupported[op_str]))\n"
     ]
    },
    {
     "data": {
      "image/png": "[encoded data removed]",
      "text/plain": [
       "<matplotlib.figure.Figure at 0x118051d10>"
      ]
     },
     "metadata": {},
     "output_type": "display_data"
    }
   ],
   "source": [
    "plot_roc(v_probs, y_test, \"ROC plot of  complaint dispute\", \n",
    "         \"False Positive Rate (1 - Specificity)\", \"True Positive Rate (Sensitivity, Recall)\")"
   ]
  },
  {
   "cell_type": "code",
   "execution_count": 80,
   "metadata": {
    "collapsed": false
   },
   "outputs": [
    {
     "data": {
      "text/plain": [
       "0.96008699578844525"
      ]
     },
     "execution_count": 80,
     "metadata": {},
     "output_type": "execute_result"
    }
   ],
   "source": [
    "import sklearn.metrics as skm\n",
    "skm.roc_auc_score(y_test, v_probs)"
   ]
  },
  {
   "cell_type": "code",
   "execution_count": 81,
   "metadata": {
    "collapsed": false
   },
   "outputs": [
    {
     "data": {
      "text/html": [
       "<div>\n",
       "<table border=\"1\" class=\"dataframe\">\n",
       "  <thead>\n",
       "    <tr style=\"text-align: right;\">\n",
       "      <th>col_0</th>\n",
       "      <th>False</th>\n",
       "      <th>True</th>\n",
       "    </tr>\n",
       "    <tr>\n",
       "      <th>acct_type</th>\n",
       "      <th></th>\n",
       "      <th></th>\n",
       "    </tr>\n",
       "  </thead>\n",
       "  <tbody>\n",
       "    <tr>\n",
       "      <th>False</th>\n",
       "      <td>3086</td>\n",
       "      <td>8</td>\n",
       "    </tr>\n",
       "    <tr>\n",
       "      <th>True</th>\n",
       "      <td>161</td>\n",
       "      <td>330</td>\n",
       "    </tr>\n",
       "  </tbody>\n",
       "</table>\n",
       "</div>"
      ],
      "text/plain": [
       "col_0      False  True \n",
       "acct_type              \n",
       "False       3086      8\n",
       "True         161    330"
      ]
     },
     "execution_count": 81,
     "metadata": {},
     "output_type": "execute_result"
    }
   ],
   "source": [
    "pd.crosstab(y_test, model_unpickled.predict(X_test))"
   ]
  },
  {
   "cell_type": "code",
   "execution_count": 82,
   "metadata": {
    "collapsed": true
   },
   "outputs": [],
   "source": [
    "from sklearn.metrics import confusion_matrix\n",
    "\n",
    "def plot_confusion_matrix(model, X_test, y_true):\n",
    "    cm = confusion_matrix(y_true, model.predict(X_test))\n",
    "\n",
    "    print(cm)\n",
    "\n",
    "    # Show confusion matrix in a separate window\n",
    "    plt.matshow(cm)\n",
    "    plt.title('Confusion matrix')\n",
    "    plt.colorbar()\n",
    "    plt.ylabel('True label')\n",
    "    plt.xlabel('Predicted label')\n",
    "    plt.show()"
   ]
  },
  {
   "cell_type": "code",
   "execution_count": 83,
   "metadata": {
    "collapsed": false
   },
   "outputs": [
    {
     "name": "stdout",
     "output_type": "stream",
     "text": [
      "[[3086    8]\n",
      " [ 161  330]]\n"
     ]
    },
    {
     "data": {
      "image/png": "[encoded data removed]",
      "text/plain": [
       "<matplotlib.figure.Figure at 0x118163410>"
      ]
     },
     "metadata": {},
     "output_type": "display_data"
    }
   ],
   "source": [
    "plot_confusion_matrix(model_unpickled, X_test, y_test)"
   ]
  },
  {
   "cell_type": "code",
   "execution_count": 84,
   "metadata": {
    "collapsed": true
   },
   "outputs": [],
   "source": [
    "import cPickle as pickle\n",
    "\n",
    "with open(\"naivebayes.pkl\", 'w') as f:\n",
    "    pickle.dump(model, f)\n",
    "with open(\"vectorizer.pkl\", 'w') as f:\n",
    "    pickle.dump(vectorizer, f)"
   ]
  }
 ],
 "metadata": {
  "kernelspec": {
   "display_name": "Python 2",
   "language": "python",
   "name": "python2"
  },
  "language_info": {
   "codemirror_mode": {
    "name": "ipython",
    "version": 2
   },
   "file_extension": ".py",
   "mimetype": "text/x-python",
   "name": "python",
   "nbconvert_exporter": "python",
   "pygments_lexer": "ipython2",
   "version": "2.7.11"
  }
 },
 "nbformat": 4,
 "nbformat_minor": 0
}
